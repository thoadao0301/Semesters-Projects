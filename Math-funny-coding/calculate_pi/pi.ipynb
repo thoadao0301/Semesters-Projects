{
 "metadata": {
  "language_info": {
   "codemirror_mode": {
    "name": "ipython",
    "version": 3
   },
   "file_extension": ".py",
   "mimetype": "text/x-python",
   "name": "python",
   "nbconvert_exporter": "python",
   "pygments_lexer": "ipython3",
   "version": "3.8.7-final"
  },
  "orig_nbformat": 2,
  "kernelspec": {
   "name": "python3",
   "display_name": "Python 3.8.7 64-bit",
   "metadata": {
    "interpreter": {
     "hash": "f4fde45515710cbe4f4cf44a8ddef1b298277709bd6c5462499553af68a98f2e"
    }
   }
  }
 },
 "nbformat": 4,
 "nbformat_minor": 2,
 "cells": [
  {
   "cell_type": "code",
   "execution_count": 82,
   "metadata": {},
   "outputs": [],
   "source": [
    "import numpy as np\n",
    "import math"
   ]
  },
  {
   "cell_type": "code",
   "execution_count": 97,
   "metadata": {},
   "outputs": [],
   "source": [
    "A = (np.random.rand(1000000,2))"
   ]
  },
  {
   "cell_type": "code",
   "execution_count": 98,
   "metadata": {},
   "outputs": [
    {
     "output_type": "execute_result",
     "data": {
      "text/plain": [
       "array([[0.02382812, 0.33675598],\n",
       "       [0.54969181, 0.30544438],\n",
       "       [0.91372443, 0.64213243],\n",
       "       ...,\n",
       "       [0.62229507, 0.28653726],\n",
       "       [0.98580845, 0.95341568],\n",
       "       [0.76064528, 0.18206699]])"
      ]
     },
     "metadata": {},
     "execution_count": 98
    }
   ],
   "source": [
    "A"
   ]
  },
  {
   "cell_type": "code",
   "execution_count": 99,
   "metadata": {},
   "outputs": [],
   "source": [
    "min_x = np.round(np.min(A[:,0])) # lay toa do cuc tieu cua x\n",
    "max_x = np.ceil(np.max(A[:,0])) #lay toa do cuc dai cua x \n",
    "min_y = np.round(np.min(A[:,1])) #lay toa do cuc tieu cua y\n",
    "max_y = np.ceil(np.max(A[:,1])) #lay toa do cuc dai cua y"
   ]
  },
  {
   "cell_type": "code",
   "execution_count": 100,
   "metadata": {},
   "outputs": [],
   "source": [
    "I = [(max_x-min_x)/2.,(max_y-min_y)/2] # tim tam\n",
    "R = (max_x - min_x)/2 #tim ban kinh"
   ]
  },
  {
   "cell_type": "code",
   "execution_count": 101,
   "metadata": {},
   "outputs": [],
   "source": [
    "count = 0\n",
    "for i in A:\n",
    "    toa_do_vec_x = i[0] -I[0] # toa do x vecto tu I den diem i\n",
    "    toa_do_vec_y = i[1] - I[1] #  toa do y vecto tu I den diem i\n",
    "    d = math.sqrt(math.pow(toa_do_vec_x,2)+math.pow(toa_do_vec_y,2)) # do dai vec to\n",
    "    if d < R:\n",
    "        count+=1"
   ]
  },
  {
   "cell_type": "code",
   "execution_count": 102,
   "metadata": {},
   "outputs": [
    {
     "output_type": "execute_result",
     "data": {
      "text/plain": [
       "3.140364"
      ]
     },
     "metadata": {},
     "execution_count": 102
    }
   ],
   "source": [
    "pi = 4*count/len(A)\n",
    "pi"
   ]
  },
  {
   "cell_type": "code",
   "execution_count": null,
   "metadata": {},
   "outputs": [],
   "source": []
  }
 ]
}